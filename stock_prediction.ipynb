{
  "nbformat": 4,
  "nbformat_minor": 0,
  "metadata": {
    "colab": {
      "provenance": [],
      "authorship_tag": "ABX9TyO2xxzJ7nHPQ3kNTu5B3D2m",
      "include_colab_link": true
    },
    "kernelspec": {
      "name": "python3",
      "display_name": "Python 3"
    },
    "language_info": {
      "name": "python"
    }
  },
  "cells": [
    {
      "cell_type": "markdown",
      "metadata": {
        "id": "view-in-github",
        "colab_type": "text"
      },
      "source": [
        "<a href=\"https://colab.research.google.com/github/18Sanjana/Loan-prediction-/blob/main/stock_prediction.ipynb\" target=\"_parent\"><img src=\"https://colab.research.google.com/assets/colab-badge.svg\" alt=\"Open In Colab\"/></a>"
      ]
    },
    {
      "cell_type": "code",
      "execution_count": null,
      "metadata": {
        "id": "n3_8k7j6DN2I"
      },
      "outputs": [],
      "source": [
        "# Import necessary libraries\n",
        "import pandas as pd\n",
        "from sklearn.model_selection import train_test_split\n",
        "from sklearn.linear_model import LinearRegression\n",
        "from sklearn.metrics import mean_squared_error\n",
        "import matplotlib.pyplot as plt\n",
        "\n",
        "# Load your stock price dataset (replace 'your_stock_data.csv' with your actual dataset file)\n",
        "data = pd.read_csv('your_stock_data.csv')\n",
        "\n",
        "# Assuming your dataset has a 'Date' and 'Closing_Price' column\n",
        "# Feature engineering: converting 'Date' to numerical values (days since start)\n",
        "data['Date'] = pd.to_datetime(data['Date'])\n",
        "data['Days'] = (data['Date'] - data['Date'].min()).dt.days\n",
        "\n",
        "# Specify the feature (X) and target variable (y)\n",
        "X = data['Days'].values.reshape(-1, 1)\n",
        "y = data['Closing_Price'].values\n",
        "\n",
        "# Split the data into training and testing sets\n",
        "X_train, X_test, y_train, y_test = train_test_split(X, y, test_size=0.2, random_state=42)\n",
        "\n",
        "# Create a Linear Regression model\n",
        "model = LinearRegression()\n",
        "\n",
        "# Train the model\n",
        "model.fit(X_train, y_train)\n",
        "\n",
        "# Make predictions on the test set\n",
        "predictions = model.predict(X_test)\n",
        "\n",
        "# Evaluate the model\n",
        "mse = mean_squared_error(y_test, predictions)\n",
        "print(f'Mean Squared Error: {mse:.2f}')\n",
        "\n",
        "# Visualize the predicted vs actual closing prices\n",
        "plt.scatter(X_test, y_test, color='black', label='Actual Prices')\n",
        "plt.plot(X_test, predictions, color='blue', linewidth=3, label='Predicted Prices')\n",
        "plt.xlabel('Days')\n",
        "plt.ylabel('Closing Price')\n",
        "plt.title('Stock Price Prediction')\n",
        "plt.legend()\n",
        "plt.show()\n"
      ]
    }
  ]
}